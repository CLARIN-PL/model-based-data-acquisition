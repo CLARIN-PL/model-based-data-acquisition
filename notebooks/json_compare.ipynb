{
 "cells": [
  {
   "cell_type": "code",
   "execution_count": 1,
   "metadata": {},
   "outputs": [],
   "source": [
    "import pandas as pd\n",
    "import polars as pl"
   ]
  },
  {
   "cell_type": "code",
   "execution_count": 2,
   "metadata": {},
   "outputs": [
    {
     "data": {
      "text/plain": [
       "(Empty DataFrame\n",
       " Columns: [article_id, id_inside_article, text]\n",
       " Index: [],\n",
       " Empty DataFrame\n",
       " Columns: [article_id, id_inside_article, text]\n",
       " Index: [])"
      ]
     },
     "execution_count": 2,
     "metadata": {},
     "output_type": "execute_result"
    }
   ],
   "source": [
    "comments_new = \"/mnt/big_one/swozniak/AnnotClassifier/data/18-4-23/comments_cleaned.csv\"\n",
    "paragraphs_new = \"/mnt/big_one/swozniak/AnnotClassifier/data/18-4-23/paragraphs_cleaned.csv\"\n",
    "\n",
    "comments_old = \"/mnt/big_one/swozniak/AnnotClassifier/data/comments_cleaned.csv\"\n",
    "paragraphs_old = \"/mnt/big_one/swozniak/AnnotClassifier/data/paragraphs_cleaned.csv\"\n",
    "\n",
    "df_comm = pd.concat([pd.read_csv(comments_old), pd.read_csv(comments_new), pd.read_csv(comments_new)], axis=0).drop_duplicates(keep=False)\n",
    "df_par = pd.concat([pd.read_csv(paragraphs_old), pd.read_csv(paragraphs_new), pd.read_csv(paragraphs_new)], axis=0).drop_duplicates(keep=False)\n",
    "df_comm, df_par"
   ]
  },
  {
   "cell_type": "code",
   "execution_count": 3,
   "metadata": {},
   "outputs": [
    {
     "data": {
      "text/plain": [
       "(shape: (0, 3)\n",
       " ┌────────────┬───────────────────┬──────┐\n",
       " │ article_id ┆ id_inside_article ┆ text │\n",
       " │ ---        ┆ ---               ┆ ---  │\n",
       " │ i64        ┆ i64               ┆ str  │\n",
       " ╞════════════╪═══════════════════╪══════╡\n",
       " └────────────┴───────────────────┴──────┘,\n",
       " shape: (0, 3)\n",
       " ┌────────────┬───────────────────┬──────┐\n",
       " │ article_id ┆ id_inside_article ┆ text │\n",
       " │ ---        ┆ ---               ┆ ---  │\n",
       " │ i64        ┆ i64               ┆ str  │\n",
       " ╞════════════╪═══════════════════╪══════╡\n",
       " └────────────┴───────────────────┴──────┘)"
      ]
     },
     "execution_count": 3,
     "metadata": {},
     "output_type": "execute_result"
    }
   ],
   "source": [
    "df_comm = pl.concat([pl.read_csv(comments_old), pl.read_csv(comments_new), pl.read_csv(comments_new)], how=\"vertical\").unique(keep=\"none\")\n",
    "df_par = pl.concat([pl.read_csv(paragraphs_old), pl.read_csv(paragraphs_new), pl.read_csv(paragraphs_new)], how=\"vertical\").unique(keep=\"none\")\n",
    "df_par, df_comm"
   ]
  },
  {
   "cell_type": "code",
   "execution_count": 4,
   "metadata": {},
   "outputs": [
    {
     "data": {
      "text/plain": [
       "((8102803, 3), (1573819, 3), (1454184, 3), (334166, 3))"
      ]
     },
     "execution_count": 4,
     "metadata": {},
     "output_type": "execute_result"
    }
   ],
   "source": [
    "com_new = pl.read_csv(comments_new)\n",
    "com_old = pl.read_csv(comments_old)\n",
    "par_new = pl.read_csv(paragraphs_new)\n",
    "par_old = pl.read_csv(paragraphs_old)\n",
    "com_new.shape, par_new.shape, com_old.shape, par_old.shape"
   ]
  },
  {
   "cell_type": "code",
   "execution_count": null,
   "metadata": {},
   "outputs": [],
   "source": []
  }
 ],
 "metadata": {
  "kernelspec": {
   "display_name": "venv",
   "language": "python",
   "name": "python3"
  },
  "language_info": {
   "codemirror_mode": {
    "name": "ipython",
    "version": 3
   },
   "file_extension": ".py",
   "mimetype": "text/x-python",
   "name": "python",
   "nbconvert_exporter": "python",
   "pygments_lexer": "ipython3",
   "version": "3.8.10"
  },
  "orig_nbformat": 4
 },
 "nbformat": 4,
 "nbformat_minor": 2
}
