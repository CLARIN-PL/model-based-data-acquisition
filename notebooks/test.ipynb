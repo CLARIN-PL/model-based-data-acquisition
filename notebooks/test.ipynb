{
 "cells": [
  {
   "cell_type": "code",
   "execution_count": 11,
   "metadata": {},
   "outputs": [],
   "source": [
    "import pandas as pd\n",
    "from functools import reduce"
   ]
  },
  {
   "cell_type": "code",
   "execution_count": 12,
   "metadata": {},
   "outputs": [
    {
     "data": {
      "text/plain": [
       "cluster\n",
       "4    200\n",
       "1    300\n",
       "2    400\n",
       "0    500\n",
       "Name: count, dtype: int64"
      ]
     },
     "execution_count": 12,
     "metadata": {},
     "output_type": "execute_result"
    }
   ],
   "source": [
    "dict_ = {\n",
    "    0: 500,\n",
    "    1: 300,\n",
    "    2: 400,\n",
    "    3: 0,\n",
    "    4: 200\n",
    "}\n",
    "df = pd.DataFrame(data={\"cluster\": reduce(lambda x, y: x+y, ([k]*v for k, v in dict_.items()), [])})\n",
    "values = df[\"cluster\"].value_counts(ascending=True)\n",
    "values"
   ]
  },
  {
   "cell_type": "code",
   "execution_count": 13,
   "metadata": {},
   "outputs": [
    {
     "data": {
      "text/plain": [
       "(cluster\n",
       " 4    200\n",
       " 1    300\n",
       " 2    400\n",
       " 0    500\n",
       " Name: count, dtype: int64,\n",
       " cluster\n",
       " 4    20\n",
       " 1    30\n",
       " 2    40\n",
       " 0    50\n",
       " Name: count, dtype: int64)"
      ]
     },
     "execution_count": 13,
     "metadata": {},
     "output_type": "execute_result"
    }
   ],
   "source": [
    "amounts = df[\"cluster\"].value_counts(ascending=True)\n",
    "\n",
    "config = {\n",
    "    \"M\": 150,\n",
    "    \"n\": amounts.shape[0],\n",
    "    \"value\": 0,\n",
    "}\n",
    "def lmb(row, config):\n",
    "    N=10\n",
    "    diff = config[\"M\"]//config[\"n\"]\n",
    "    if row//N < config[\"value\"] + diff:\n",
    "        diff = row//N - config[\"value\"]\n",
    "    config[\"value\"] += diff \n",
    "    config[\"M\"] -= diff*config[\"n\"]\n",
    "    config[\"n\"] -= 1\n",
    "    return config[\"value\"]\n",
    "\n",
    "result = amounts.apply(lambda x: lmb(x, config))\n",
    "amounts, result "
   ]
  },
  {
   "cell_type": "code",
   "execution_count": 14,
   "metadata": {},
   "outputs": [
    {
     "name": "stdout",
     "output_type": "stream",
     "text": [
      "4 20\n",
      "1 30\n",
      "2 40\n",
      "0 50\n"
     ]
    }
   ],
   "source": [
    "for k,v in result.items():\n",
    "    print(k, v)"
   ]
  },
  {
   "cell_type": "code",
   "execution_count": 41,
   "metadata": {},
   "outputs": [
    {
     "data": {
      "text/html": [
       "<div>\n",
       "<style scoped>\n",
       "    .dataframe tbody tr th:only-of-type {\n",
       "        vertical-align: middle;\n",
       "    }\n",
       "\n",
       "    .dataframe tbody tr th {\n",
       "        vertical-align: top;\n",
       "    }\n",
       "\n",
       "    .dataframe thead th {\n",
       "        text-align: right;\n",
       "    }\n",
       "</style>\n",
       "<table border=\"1\" class=\"dataframe\">\n",
       "  <thead>\n",
       "    <tr style=\"text-align: right;\">\n",
       "      <th></th>\n",
       "      <th>data</th>\n",
       "      <th>id</th>\n",
       "    </tr>\n",
       "  </thead>\n",
       "  <tbody>\n",
       "    <tr>\n",
       "      <th>0</th>\n",
       "      <td>1</td>\n",
       "      <td>3</td>\n",
       "    </tr>\n",
       "  </tbody>\n",
       "</table>\n",
       "</div>"
      ],
      "text/plain": [
       "   data  id\n",
       "0     1   3"
      ]
     },
     "execution_count": 41,
     "metadata": {},
     "output_type": "execute_result"
    }
   ],
   "source": [
    "s = pd.Series({\"data\": 1, \"id\": 3})\n",
    "\n",
    "d = pd.DataFrame(data={k: [v] for k,v in s.items()}, columns=list(s.index))\n",
    "# pd.concat([d, ], axis=0)\n",
    "# s list(s.index)\n",
    "d"
   ]
  }
 ],
 "metadata": {
  "kernelspec": {
   "display_name": "Python 3 (ipykernel)",
   "language": "python",
   "name": "python3"
  },
  "language_info": {
   "codemirror_mode": {
    "name": "ipython",
    "version": 3
   },
   "file_extension": ".py",
   "mimetype": "text/x-python",
   "name": "python",
   "nbconvert_exporter": "python",
   "pygments_lexer": "ipython3",
   "version": "3.11.5"
  }
 },
 "nbformat": 4,
 "nbformat_minor": 2
}
