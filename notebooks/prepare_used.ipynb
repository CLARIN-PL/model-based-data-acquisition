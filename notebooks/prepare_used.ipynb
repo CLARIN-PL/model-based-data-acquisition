{
 "cells": [
  {
   "cell_type": "code",
   "execution_count": 1,
   "metadata": {},
   "outputs": [],
   "source": [
    "import pandas as pd"
   ]
  },
  {
   "cell_type": "code",
   "execution_count": 7,
   "metadata": {},
   "outputs": [
    {
     "data": {
      "text/plain": [
       "(project_id                                                          0\n",
       " order_in_project                                                    0\n",
       " text_type                                                           1\n",
       " text                To temat, który przewija się przez media od ni...\n",
       " Name: 0, dtype: object,\n",
       " project_id                                                          0\n",
       " order_in_project                                                    0\n",
       " text_type                                                           1\n",
       " text                To temat, który przewija się przez media od ni...\n",
       " Name: 0, dtype: object)"
      ]
     },
     "execution_count": 7,
     "metadata": {},
     "output_type": "execute_result"
    }
   ],
   "source": [
    "texts_path = \"../data/texts.csv\"\n",
    "texts_2 = \"../data/sent/texts.csv\"\n",
    "projects_path = \"../data/projects.csv\"\n",
    "\n",
    "projects = pd.read_csv(projects_path)\n",
    "texts = pd.read_csv(texts_path)\n",
    "texts_2 = pd.read_csv(texts_2)\n",
    "\n",
    "# data = pd.merge(projects[[\"project_id\", \"project_type\"]], texts[[\"project_id\", \"text_type\", \"text\"]], how=\"inner\", on=\"project_id\")\n",
    "# data\n",
    "pd.concat([texts, texts_2], axis=0).drop_duplicates(keep=False)\n",
    "texts.iloc[0], texts_2.iloc[0]"
   ]
  },
  {
   "cell_type": "code",
   "execution_count": null,
   "metadata": {},
   "outputs": [],
   "source": []
  }
 ],
 "metadata": {
  "kernelspec": {
   "display_name": "venv",
   "language": "python",
   "name": "python3"
  },
  "language_info": {
   "codemirror_mode": {
    "name": "ipython",
    "version": 3
   },
   "file_extension": ".py",
   "mimetype": "text/x-python",
   "name": "python",
   "nbconvert_exporter": "python",
   "pygments_lexer": "ipython3",
   "version": "3.8.10"
  },
  "orig_nbformat": 4
 },
 "nbformat": 4,
 "nbformat_minor": 2
}
