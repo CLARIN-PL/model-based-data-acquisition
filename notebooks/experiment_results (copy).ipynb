{
 "cells": [
  {
   "cell_type": "code",
   "execution_count": 14,
   "id": "4e334956",
   "metadata": {
    "tags": []
   },
   "outputs": [],
   "source": [
    "import plotly.graph_objects as go\n",
    "import plotly.express as px\n",
    "import pandas as pd\n",
    "import numpy as np\n",
    "from os.path import join\n",
    "from sklearn.metrics import f1_score, classification_report\n",
    "import json"
   ]
  },
  {
   "cell_type": "code",
   "execution_count": 15,
   "id": "db883ed6",
   "metadata": {
    "tags": []
   },
   "outputs": [],
   "source": [
    "datadir = \"../data/experiments/\"\n",
    "#TODO zmień tutaj ściezke do plików\n",
    "dataset_names = [\"doccano1\", \"hate_speech\", \"unhealthy\"]\n",
    "curr_dataset = \"doccano1\" # TODO wybierz nazwe datasetu z powyzszej listy\n",
    "# curr_dataset = \"hate_speech\"\n",
    "\n",
    "C_file = f\"C_{curr_dataset}.csv\"\n",
    "increment_file = f\"increment_{curr_dataset}.csv\"\n",
    "single_file = f\"single_{curr_dataset}.csv\"\n",
    "thresholds_file = f\"thresholds_{curr_dataset}.csv\""
   ]
  },
  {
   "cell_type": "code",
   "execution_count": 16,
   "id": "5bbd7392-d0f5-4f68-8af7-82728d7ff674",
   "metadata": {
    "tags": []
   },
   "outputs": [],
   "source": [
    "LABEL_COLUMNS = {\n",
    "#     TODO zmienić nazwy polskie na angielskie\n",
    "    \"doccano1\": [\"Pozytywne\", \"Negatywne\", \"Radość\", \"Zachwyt\",\"Inspiruje\",\"Spokój\",\"Zaskoczenie\",\"Współczucie\",\"Strach\",\"Smutek\",\"Wstręt\",\"Złość\",\"Ironiczny\",\"Żenujący\",\"Wulgarny\",\"Polityczny\",\"Interesujący\",\"Zrozumiały\",\"Potrzebuję więcej informacji, aby ocenić ten tekst\",\"Obraża mnie\",\"Może kogoś atakować / obrażać / lekceważyć\",\"Mnie bawi/śmieszy?\",\"Może kogoś bawić?\"],\n",
    "    \"hate_speech\": [\"sentiment\",\"respect\",\"insult\",\"humiliate\",\"status\",\"dehumanize\",\"violence\",\"genocide\",\"attack_defend\",\"hatespeech\"],\n",
    "    \"unhealthy\": [\"antagonize\",\"condescending\",\"dismissive\",\"generalisation_unfair\",\"hostile\",\"sarcastic\"],\n",
    "}"
   ]
  },
  {
   "cell_type": "code",
   "execution_count": 17,
   "id": "ffeed464-583c-44b1-8d0c-db5851ea1df8",
   "metadata": {
    "tags": []
   },
   "outputs": [],
   "source": [
    "def read_data(file):\n",
    "    df = pd.read_csv(join(datadir, file))\n",
    "    print(df.columns)\n",
    "    if \"text\" in df.columns:\n",
    "        return df.drop(columns=[\"text\"])\n",
    "    return df"
   ]
  },
  {
   "cell_type": "code",
   "execution_count": 31,
   "id": "bd2eb837",
   "metadata": {
    "tags": []
   },
   "outputs": [],
   "source": [
    "def convert_column_to_matrix(df, column):\n",
    "    mapped = map(lambda x: np.fromstring(str(x).replace(\"]\",\"\").replace(\"[\",\"\"), sep=\", \"), df[column].tolist())\n",
    "    matrix = np.stack(list(mapped), axis=0)\n",
    "    return matrix"
   ]
  },
  {
   "cell_type": "code",
   "execution_count": 42,
   "id": "dd22b20f-df93-4f52-b43d-a726804f0520",
   "metadata": {
    "tags": []
   },
   "outputs": [
    {
     "name": "stdout",
     "output_type": "stream",
     "text": [
      "Index(['labels', 'predictions', 'text', 'fold', 'label'], dtype='object')\n",
      "Index(['labels', 'predictions', 'text', 'fold', 'threshold'], dtype='object')\n"
     ]
    }
   ],
   "source": [
    "df_AB = read_data(C_file)\n",
    "df_increment = read_data(increment_file)\n",
    "df_single = read_data(single_file)\n",
    "df_thresholds = read_data(thresholds_file)"
   ]
  },
  {
   "cell_type": "code",
   "execution_count": 7,
   "id": "3ef1bc3e-ef90-4ba8-8c2d-8e4bc9e9ad46",
   "metadata": {
    "tags": []
   },
   "outputs": [],
   "source": [
    "def compute_F1(true, preds):\n",
    "    macro_per_class, score_per_class_1, score_per_class_0 = [], [], []\n",
    "    for i in range(true.shape[1]):\n",
    "        score = f1_score(true[:,i], preds[:,i], average=\"macro\")\n",
    "        score_1 = f1_score(true[:,i], preds[:,i], pos_label=1)\n",
    "        score_0 = f1_score(true[:,i], preds[:,i], pos_label=0, zero_division=0)\n",
    "        score_per_class_1.append(score_1)\n",
    "        score_per_class_0.append(score_0)\n",
    "        macro_per_class.append(score)\n",
    "        \n",
    "    macro_per_class = np.stack(macro_per_class, axis=0)\n",
    "    macro = macro_per_class.mean()\n",
    "    score_per_class_1 = np.stack(score_per_class_1, axis=0)\n",
    "    score_1 = score_per_class_1.mean()\n",
    "    score_per_class_0 = np.stack(score_per_class_0, axis=0)\n",
    "    score_0 = score_per_class_0.mean()\n",
    "    \n",
    "    score_for_1 = f1_score(true.flatten(), preds.flatten(), pos_label=1)\n",
    "    score_for_0 = f1_score(true.flatten(), preds.flatten(), pos_label=0, zero_division=0)\n",
    "\n",
    "    \"\"\"\n",
    "    TODO nazwy chciałem zeby były krótkie i troche odzwierciedlały co robią - kolejność jest zachowana według dokumentu .docx\n",
    "    to gdzie są listy to są dane, które sa per_dim/per_class, a te obok to są uśrednione listy, wyjątkiem są f1_for_1 i f1_for_0 bo to są wymiary po flatten\n",
    "    \n",
    "    \"\"\"\n",
    "    return {\"macro_per_dim\": list(macro_per_class), \"macro\": macro,\n",
    "            \"f1_for_1\":score_for_1, \"f1_for_0\":score_for_0, \"mean_for_1_0\": (score_for_1 + score_for_0)/2,\n",
    "            \"1_per_dim\":list(score_per_class_1), \"mean_for_1\":score_1,\n",
    "            \"0_per_dim\":list(score_per_class_0), \"mean_for_0\":score_0}\n"
   ]
  },
  {
   "cell_type": "code",
   "execution_count": 8,
   "id": "5581e2e6-55b3-4af7-a423-39977919d4dc",
   "metadata": {
    "tags": []
   },
   "outputs": [],
   "source": [
    "def get_array(data, key):\n",
    "    array = np.array([x[key] for _, x in data.items()])\n",
    "    return array, array.mean(axis=0), array.std(axis=0)"
   ]
  },
  {
   "cell_type": "code",
   "execution_count": 68,
   "id": "ebf144b6-62d8-45c3-a905-e5deafa05e12",
   "metadata": {
    "tags": []
   },
   "outputs": [],
   "source": [
    "def plot_barplot(fig, means, stds, name, x=None, show=True):\n",
    "    if x is None:\n",
    "        x = LABEL_COLUMNS[curr_dataset] + [\"all\"]\n",
    "    fig.add_trace(\n",
    "        go.Bar(\n",
    "            name=name,\n",
    "            x=x,\n",
    "            y=means,\n",
    "            error_y=dict(\n",
    "                type=\"data\",\n",
    "                array=stds,\n",
    "                visible=True,\n",
    "            ),\n",
    "            showlegend=show\n",
    "        )\n",
    "    )\n",
    "\n",
    "def AB_experiment(df, per_class_label = \"macro_per_dim\", mean_label = \"macro\"):\n",
    "    folds_num = df[\"fold\"].max() + 1\n",
    "    \n",
    "    f1_AA, f1_BA = {}, {}\n",
    "    \n",
    "    for fold in range(folds_num):\n",
    "        curr_data = df[df[\"fold\"]==fold]\n",
    "        A_label = convert_column_to_matrix(curr_data, \"A_label\")\n",
    "        B_label = convert_column_to_matrix(curr_data, \"B_label\")\n",
    "        C_label = convert_column_to_matrix(curr_data, \"predicted\")\n",
    "        \n",
    "        dims = A_label.shape[1]\n",
    "        \n",
    "        f1_AA[fold] = compute_F1(A_label, B_label)\n",
    "        f1_BA[fold] = compute_F1(A_label, C_label)\n",
    "    \n",
    "    with open(join(datadir, f\"f1_AA_{curr_dataset}.json\"), \"w\") as f:\n",
    "        json.dump(f1_AA, f)\n",
    "        \n",
    "    with open(join(datadir, f\"f1_BA_{curr_dataset}.json\"), \"w\") as f:\n",
    "        json.dump(f1_BA, f)\n",
    "    \n",
    "    aa, means_aa, stds_aa = get_array(f1_AA, per_class_label)\n",
    "    scalar_aa, mean_aa, std_aa = get_array(f1_AA, mean_label)\n",
    "    \n",
    "    ba, means_ba, stds_ba = get_array(f1_BA, per_class_label)\n",
    "    scalar_ba, mean_ba, std_ba = get_array(f1_BA, mean_label)\n",
    "    \n",
    "    fig = go.Figure()\n",
    "    \n",
    "    plot_barplot(fig, list(means_aa) + [mean_aa], list(stds_aa) + [std_aa], \"A\")\n",
    "    plot_barplot(fig, list(means_ba) + [mean_ba], list(stds_ba) + [std_ba], \"B\")\n",
    "    \n",
    "    \n",
    "    \n",
    "    fig.update_layout(\n",
    "        title=dict(\n",
    "            text=\"F1 per dimension in A-B experiment\",\n",
    "        ),\n",
    "        width=1500,\n",
    "        height=500,\n",
    "    )\n",
    "    \n",
    "    fig.show()\n",
    "    \n",
    "    \n",
    "    diff_means = (ba-aa).mean(axis=0)\n",
    "    diff_stds = (ba-aa).std(axis=0)\n",
    "    diff_mean = (scalar_ba-scalar_aa).mean()\n",
    "    diff_std = (scalar_ba-scalar_aa).std()\n",
    "    \n",
    "    fig = go.Figure()\n",
    "    \n",
    "    plot_barplot(fig, list(diff_means) + [diff_mean], list(diff_stds) + [diff_std], \"difference\")\n",
    "    \n",
    "    \n",
    "    fig.update_layout(\n",
    "        title=dict(\n",
    "            text=\"Difference F1 per dimension in A-B experiment\",\n",
    "        ),\n",
    "        width=1500,\n",
    "        height=500,\n",
    "    )\n",
    "    \n",
    "    fig.show()\n",
    "    \n",
    "    \n",
    "    "
   ]
  },
  {
   "cell_type": "code",
   "execution_count": 11,
   "id": "664d518c-4520-4504-8e99-2ee439de6c4d",
   "metadata": {
    "tags": []
   },
   "outputs": [],
   "source": [
    "AB_experiment(df_AB)"
   ]
  },
  {
   "cell_type": "code",
   "execution_count": 40,
   "id": "6f168491-5e2c-4da5-8ce6-a9279f523da8",
   "metadata": {
    "tags": []
   },
   "outputs": [],
   "source": [
    "def increment_experiment(df, per_class_label = \"macro_per_dim\", mean_label = \"macro\"):\n",
    "    folds_num = df[\"test_fold\"].max() + 1\n",
    "    \n",
    "    f1_data = {} \n",
    "    \n",
    "    for fold in range(folds_num):\n",
    "        curr_data = df[df[\"test_fold\"]==fold]\n",
    "        original = convert_column_to_matrix(curr_data, \"original\")\n",
    "        \n",
    "        for i in range(1,9):\n",
    "            curr_matrix = convert_column_to_matrix(curr_data, str(i))\n",
    "            if f\"train_{i}\" not in f1_data:\n",
    "                f1_data[f\"train_{i}\"] = {}\n",
    "            f1_data[f\"train_{i}\"][fold] = compute_F1(original, curr_matrix)\n",
    "\n",
    "    \n",
    "    with open(join(datadir, f\"f1_increment_{curr_dataset}.json\"), \"w\") as f:\n",
    "        json.dump(f1_data, f)\n",
    "\n",
    "    plot_data = {}\n",
    "    for i in range(1,9):\n",
    "        _, means, stds = get_array(f1_data[f\"train_{i}\"], per_class_label)\n",
    "        _, mean, std = get_array(f1_data[f\"train_{i}\"], mean_label)\n",
    "        plot_data[i] = (list(means) + [mean], list(stds) + [std])\n",
    "        \n",
    "    fig = go.Figure()\n",
    "    \n",
    "    for i, (means, std) in plot_data.items():\n",
    "        plot_barplot(fig, means, std, f\"{i} folds\")\n",
    "\n",
    "    \n",
    "    fig.update_layout(\n",
    "        title=dict(\n",
    "            text=\"F1 per dimension in increment experiment\",\n",
    "        ),\n",
    "        width=3000,\n",
    "        height=500,\n",
    "    )\n",
    "    \n",
    "    fig.show()\n",
    "        "
   ]
  },
  {
   "cell_type": "code",
   "execution_count": 43,
   "id": "866a2ff0-31fc-42bf-a76b-cd47b0920ead",
   "metadata": {
    "tags": []
   },
   "outputs": [],
   "source": [
    "increment_experiment(df_increment)"
   ]
  },
  {
   "cell_type": "code",
   "execution_count": 69,
   "id": "cded9b77-36ba-4587-a982-880b8c54708b",
   "metadata": {
    "tags": []
   },
   "outputs": [],
   "source": [
    "def single_training_experiment(df, per_class_label = \"macro_per_dim\", mean_label = \"macro\"):\n",
    "    folds_num = df[\"fold\"].max() + 1\n",
    "    \n",
    "    f1_data = {} \n",
    "    labels = df[\"label\"].unique()\n",
    "    for fold in range(folds_num):\n",
    "        curr_data = df[df[\"fold\"]==fold]\n",
    "        for label in labels:\n",
    "            curr_data_thresh = curr_data[curr_data[\"label\"] == label]\n",
    "            curr_matrix = convert_column_to_matrix(curr_data_thresh, \"predictions\")\n",
    "            original = convert_column_to_matrix(curr_data_thresh, \"labels\")\n",
    "            if label not in f1_data:\n",
    "                f1_data[label] = {}\n",
    "            f1_data[label][fold] = compute_F1(original, curr_matrix)\n",
    "\n",
    "    \n",
    "    with open(join(datadir, f\"f1_single_training_{curr_dataset}.json\"), \"w\") as f:\n",
    "        json.dump(f1_data, f)\n",
    "\n",
    "    plot_data = {}\n",
    "    for label in labels:\n",
    "        _, means, stds = get_array(f1_data[label], per_class_label)\n",
    "        _, mean, std = get_array(f1_data[label], mean_label)\n",
    "        plot_data[label] = (list(means) + [mean], list(stds) + [std])\n",
    "        \n",
    "    fig = go.Figure()\n",
    "    \n",
    "    for i, (means, std) in plot_data.items():\n",
    "        plot_barplot(fig, means, std, i, x=[i], show=False)\n",
    "    \n",
    "    fig.update_layout(\n",
    "        title=dict(\n",
    "            text=\"F1 per dimension in single dimension training experiment\",\n",
    "        ),\n",
    "        width=1500,\n",
    "        height=500,\n",
    "    )\n",
    "    \n",
    "    fig.show()"
   ]
  },
  {
   "cell_type": "code",
   "execution_count": 70,
   "id": "a379ea08-0c57-43b3-96fc-bbc5ccffe27f",
   "metadata": {
    "tags": []
   },
   "outputs": [
    {
     "data": {
      "application/vnd.plotly.v1+json": {
       "config": {
        "plotlyServerURL": "https://plot.ly"
       },
       "data": [
        {
         "error_y": {
          "array": [
           0.1717975225397356,
           0.1717975225397356
          ],
          "type": "data",
          "visible": true
         },
         "name": "Pozytywne",
         "showlegend": false,
         "type": "bar",
         "x": [
          "Pozytywne"
         ],
         "y": [
          0.3453148369688982,
          0.3453148369688982
         ]
        },
        {
         "error_y": {
          "array": [
           0.15567105970593578,
           0.15567105970593578
          ],
          "type": "data",
          "visible": true
         },
         "name": "Negatywne",
         "showlegend": false,
         "type": "bar",
         "x": [
          "Negatywne"
         ],
         "y": [
          0.426356028242867,
          0.426356028242867
         ]
        },
        {
         "error_y": {
          "array": [
           0.024739775163503012,
           0.024739775163503012
          ],
          "type": "data",
          "visible": true
         },
         "name": "Radość",
         "showlegend": false,
         "type": "bar",
         "x": [
          "Radość"
         ],
         "y": [
          0.3399324188996097,
          0.3399324188996097
         ]
        },
        {
         "error_y": {
          "array": [
           0.09387316924022422,
           0.09387316924022422
          ],
          "type": "data",
          "visible": true
         },
         "name": "Zachwyt",
         "showlegend": false,
         "type": "bar",
         "x": [
          "Zachwyt"
         ],
         "y": [
          0.3397731466156552,
          0.3397731466156552
         ]
        },
        {
         "error_y": {
          "array": [
           0.045413084481331606,
           0.045413084481331606
          ],
          "type": "data",
          "visible": true
         },
         "name": "Inspiruje",
         "showlegend": false,
         "type": "bar",
         "x": [
          "Inspiruje"
         ],
         "y": [
          0.365457416850126,
          0.365457416850126
         ]
        },
        {
         "error_y": {
          "array": [
           0.12248834234651845,
           0.12248834234651845
          ],
          "type": "data",
          "visible": true
         },
         "name": "Spokój",
         "showlegend": false,
         "type": "bar",
         "x": [
          "Spokój"
         ],
         "y": [
          0.2995602721291316,
          0.2995602721291316
         ]
        },
        {
         "error_y": {
          "array": [
           0.20349907898249298,
           0.20349907898249298
          ],
          "type": "data",
          "visible": true
         },
         "name": "Zaskoczenie",
         "showlegend": false,
         "type": "bar",
         "x": [
          "Zaskoczenie"
         ],
         "y": [
          0.2665326093341333,
          0.2665326093341333
         ]
        },
        {
         "error_y": {
          "array": [
           0.0899361611093197,
           0.0899361611093197
          ],
          "type": "data",
          "visible": true
         },
         "name": "Współczucie",
         "showlegend": false,
         "type": "bar",
         "x": [
          "Współczucie"
         ],
         "y": [
          0.41834937281693546,
          0.41834937281693546
         ]
        },
        {
         "error_y": {
          "array": [
           0.09000795561075953,
           0.09000795561075953
          ],
          "type": "data",
          "visible": true
         },
         "name": "Strach",
         "showlegend": false,
         "type": "bar",
         "x": [
          "Strach"
         ],
         "y": [
          0.3913687069686926,
          0.3913687069686926
         ]
        },
        {
         "error_y": {
          "array": [
           0.11607052229044788,
           0.11607052229044788
          ],
          "type": "data",
          "visible": true
         },
         "name": "Smutek",
         "showlegend": false,
         "type": "bar",
         "x": [
          "Smutek"
         ],
         "y": [
          0.33009800471213036,
          0.33009800471213036
         ]
        },
        {
         "error_y": {
          "array": [
           0.0632847834312327,
           0.0632847834312327
          ],
          "type": "data",
          "visible": true
         },
         "name": "Wstręt",
         "showlegend": false,
         "type": "bar",
         "x": [
          "Wstręt"
         ],
         "y": [
          0.3638405668419934,
          0.3638405668419934
         ]
        },
        {
         "error_y": {
          "array": [
           0.10747865081051966,
           0.10747865081051966
          ],
          "type": "data",
          "visible": true
         },
         "name": "Złość",
         "showlegend": false,
         "type": "bar",
         "x": [
          "Złość"
         ],
         "y": [
          0.340035259890009,
          0.340035259890009
         ]
        },
        {
         "error_y": {
          "array": [
           0.07326478406798144,
           0.07326478406798144
          ],
          "type": "data",
          "visible": true
         },
         "name": "Ironiczny",
         "showlegend": false,
         "type": "bar",
         "x": [
          "Ironiczny"
         ],
         "y": [
          0.30761834173658986,
          0.30761834173658986
         ]
        },
        {
         "error_y": {
          "array": [
           0.07095654732909443,
           0.07095654732909443
          ],
          "type": "data",
          "visible": true
         },
         "name": "Żenujący",
         "showlegend": false,
         "type": "bar",
         "x": [
          "Żenujący"
         ],
         "y": [
          0.3581239693243208,
          0.3581239693243208
         ]
        },
        {
         "error_y": {
          "array": [
           0.08575888684238088,
           0.08575888684238088
          ],
          "type": "data",
          "visible": true
         },
         "name": "Wulgarny",
         "showlegend": false,
         "type": "bar",
         "x": [
          "Wulgarny"
         ],
         "y": [
          0.2527614805278303,
          0.2527614805278303
         ]
        },
        {
         "error_y": {
          "array": [
           0.10487336182798859,
           0.10487336182798859
          ],
          "type": "data",
          "visible": true
         },
         "name": "Polityczny",
         "showlegend": false,
         "type": "bar",
         "x": [
          "Polityczny"
         ],
         "y": [
          0.33649718462120826,
          0.33649718462120826
         ]
        },
        {
         "error_y": {
          "array": [
           0.3008743206614689,
           0.3008743206614689
          ],
          "type": "data",
          "visible": true
         },
         "name": "Interesujący",
         "showlegend": false,
         "type": "bar",
         "x": [
          "Interesujący"
         ],
         "y": [
          0.3280847238135229,
          0.3280847238135229
         ]
        },
        {
         "error_y": {
          "array": [
           0.4276017957710825,
           0.4276017957710825
          ],
          "type": "data",
          "visible": true
         },
         "name": "Zrozumiały",
         "showlegend": false,
         "type": "bar",
         "x": [
          "Zrozumiały"
         ],
         "y": [
          0.5991501448031707,
          0.5991501448031707
         ]
        },
        {
         "error_y": {
          "array": [
           0.1948422694356491,
           0.1948422694356491
          ],
          "type": "data",
          "visible": true
         },
         "name": "Potrzebuję więcej informacji, aby ocenić ten tekst",
         "showlegend": false,
         "type": "bar",
         "x": [
          "Potrzebuję więcej informacji, aby ocenić ten tekst"
         ],
         "y": [
          0.3197738265331881,
          0.3197738265331881
         ]
        },
        {
         "error_y": {
          "array": [
           0.1289976436992683,
           0.1289976436992683
          ],
          "type": "data",
          "visible": true
         },
         "name": "Obraża mnie",
         "showlegend": false,
         "type": "bar",
         "x": [
          "Obraża mnie"
         ],
         "y": [
          0.42959719767832716,
          0.42959719767832716
         ]
        },
        {
         "error_y": {
          "array": [
           0.10464670161087215,
           0.10464670161087215
          ],
          "type": "data",
          "visible": true
         },
         "name": "Może kogoś atakować / obrażać / lekceważyć",
         "showlegend": false,
         "type": "bar",
         "x": [
          "Może kogoś atakować / obrażać / lekceważyć"
         ],
         "y": [
          0.3944022341592254,
          0.3944022341592254
         ]
        },
        {
         "error_y": {
          "array": [
           0.15945766723336188,
           0.15945766723336188
          ],
          "type": "data",
          "visible": true
         },
         "name": "Mnie bawi/śmieszy?",
         "showlegend": false,
         "type": "bar",
         "x": [
          "Mnie bawi/śmieszy?"
         ],
         "y": [
          0.32566694232522364,
          0.32566694232522364
         ]
        },
        {
         "error_y": {
          "array": [
           0.07661509148648636,
           0.07661509148648636
          ],
          "type": "data",
          "visible": true
         },
         "name": "Może kogoś bawić?",
         "showlegend": false,
         "type": "bar",
         "x": [
          "Może kogoś bawić?"
         ],
         "y": [
          0.3953880404086691,
          0.3953880404086691
         ]
        }
       ],
       "layout": {
        "height": 500,
        "template": {
         "data": {
          "bar": [
           {
            "error_x": {
             "color": "#2a3f5f"
            },
            "error_y": {
             "color": "#2a3f5f"
            },
            "marker": {
             "line": {
              "color": "#E5ECF6",
              "width": 0.5
             },
             "pattern": {
              "fillmode": "overlay",
              "size": 10,
              "solidity": 0.2
             }
            },
            "type": "bar"
           }
          ],
          "barpolar": [
           {
            "marker": {
             "line": {
              "color": "#E5ECF6",
              "width": 0.5
             },
             "pattern": {
              "fillmode": "overlay",
              "size": 10,
              "solidity": 0.2
             }
            },
            "type": "barpolar"
           }
          ],
          "carpet": [
           {
            "aaxis": {
             "endlinecolor": "#2a3f5f",
             "gridcolor": "white",
             "linecolor": "white",
             "minorgridcolor": "white",
             "startlinecolor": "#2a3f5f"
            },
            "baxis": {
             "endlinecolor": "#2a3f5f",
             "gridcolor": "white",
             "linecolor": "white",
             "minorgridcolor": "white",
             "startlinecolor": "#2a3f5f"
            },
            "type": "carpet"
           }
          ],
          "choropleth": [
           {
            "colorbar": {
             "outlinewidth": 0,
             "ticks": ""
            },
            "type": "choropleth"
           }
          ],
          "contour": [
           {
            "colorbar": {
             "outlinewidth": 0,
             "ticks": ""
            },
            "colorscale": [
             [
              0,
              "#0d0887"
             ],
             [
              0.1111111111111111,
              "#46039f"
             ],
             [
              0.2222222222222222,
              "#7201a8"
             ],
             [
              0.3333333333333333,
              "#9c179e"
             ],
             [
              0.4444444444444444,
              "#bd3786"
             ],
             [
              0.5555555555555556,
              "#d8576b"
             ],
             [
              0.6666666666666666,
              "#ed7953"
             ],
             [
              0.7777777777777778,
              "#fb9f3a"
             ],
             [
              0.8888888888888888,
              "#fdca26"
             ],
             [
              1,
              "#f0f921"
             ]
            ],
            "type": "contour"
           }
          ],
          "contourcarpet": [
           {
            "colorbar": {
             "outlinewidth": 0,
             "ticks": ""
            },
            "type": "contourcarpet"
           }
          ],
          "heatmap": [
           {
            "colorbar": {
             "outlinewidth": 0,
             "ticks": ""
            },
            "colorscale": [
             [
              0,
              "#0d0887"
             ],
             [
              0.1111111111111111,
              "#46039f"
             ],
             [
              0.2222222222222222,
              "#7201a8"
             ],
             [
              0.3333333333333333,
              "#9c179e"
             ],
             [
              0.4444444444444444,
              "#bd3786"
             ],
             [
              0.5555555555555556,
              "#d8576b"
             ],
             [
              0.6666666666666666,
              "#ed7953"
             ],
             [
              0.7777777777777778,
              "#fb9f3a"
             ],
             [
              0.8888888888888888,
              "#fdca26"
             ],
             [
              1,
              "#f0f921"
             ]
            ],
            "type": "heatmap"
           }
          ],
          "heatmapgl": [
           {
            "colorbar": {
             "outlinewidth": 0,
             "ticks": ""
            },
            "colorscale": [
             [
              0,
              "#0d0887"
             ],
             [
              0.1111111111111111,
              "#46039f"
             ],
             [
              0.2222222222222222,
              "#7201a8"
             ],
             [
              0.3333333333333333,
              "#9c179e"
             ],
             [
              0.4444444444444444,
              "#bd3786"
             ],
             [
              0.5555555555555556,
              "#d8576b"
             ],
             [
              0.6666666666666666,
              "#ed7953"
             ],
             [
              0.7777777777777778,
              "#fb9f3a"
             ],
             [
              0.8888888888888888,
              "#fdca26"
             ],
             [
              1,
              "#f0f921"
             ]
            ],
            "type": "heatmapgl"
           }
          ],
          "histogram": [
           {
            "marker": {
             "pattern": {
              "fillmode": "overlay",
              "size": 10,
              "solidity": 0.2
             }
            },
            "type": "histogram"
           }
          ],
          "histogram2d": [
           {
            "colorbar": {
             "outlinewidth": 0,
             "ticks": ""
            },
            "colorscale": [
             [
              0,
              "#0d0887"
             ],
             [
              0.1111111111111111,
              "#46039f"
             ],
             [
              0.2222222222222222,
              "#7201a8"
             ],
             [
              0.3333333333333333,
              "#9c179e"
             ],
             [
              0.4444444444444444,
              "#bd3786"
             ],
             [
              0.5555555555555556,
              "#d8576b"
             ],
             [
              0.6666666666666666,
              "#ed7953"
             ],
             [
              0.7777777777777778,
              "#fb9f3a"
             ],
             [
              0.8888888888888888,
              "#fdca26"
             ],
             [
              1,
              "#f0f921"
             ]
            ],
            "type": "histogram2d"
           }
          ],
          "histogram2dcontour": [
           {
            "colorbar": {
             "outlinewidth": 0,
             "ticks": ""
            },
            "colorscale": [
             [
              0,
              "#0d0887"
             ],
             [
              0.1111111111111111,
              "#46039f"
             ],
             [
              0.2222222222222222,
              "#7201a8"
             ],
             [
              0.3333333333333333,
              "#9c179e"
             ],
             [
              0.4444444444444444,
              "#bd3786"
             ],
             [
              0.5555555555555556,
              "#d8576b"
             ],
             [
              0.6666666666666666,
              "#ed7953"
             ],
             [
              0.7777777777777778,
              "#fb9f3a"
             ],
             [
              0.8888888888888888,
              "#fdca26"
             ],
             [
              1,
              "#f0f921"
             ]
            ],
            "type": "histogram2dcontour"
           }
          ],
          "mesh3d": [
           {
            "colorbar": {
             "outlinewidth": 0,
             "ticks": ""
            },
            "type": "mesh3d"
           }
          ],
          "parcoords": [
           {
            "line": {
             "colorbar": {
              "outlinewidth": 0,
              "ticks": ""
             }
            },
            "type": "parcoords"
           }
          ],
          "pie": [
           {
            "automargin": true,
            "type": "pie"
           }
          ],
          "scatter": [
           {
            "fillpattern": {
             "fillmode": "overlay",
             "size": 10,
             "solidity": 0.2
            },
            "type": "scatter"
           }
          ],
          "scatter3d": [
           {
            "line": {
             "colorbar": {
              "outlinewidth": 0,
              "ticks": ""
             }
            },
            "marker": {
             "colorbar": {
              "outlinewidth": 0,
              "ticks": ""
             }
            },
            "type": "scatter3d"
           }
          ],
          "scattercarpet": [
           {
            "marker": {
             "colorbar": {
              "outlinewidth": 0,
              "ticks": ""
             }
            },
            "type": "scattercarpet"
           }
          ],
          "scattergeo": [
           {
            "marker": {
             "colorbar": {
              "outlinewidth": 0,
              "ticks": ""
             }
            },
            "type": "scattergeo"
           }
          ],
          "scattergl": [
           {
            "marker": {
             "colorbar": {
              "outlinewidth": 0,
              "ticks": ""
             }
            },
            "type": "scattergl"
           }
          ],
          "scattermapbox": [
           {
            "marker": {
             "colorbar": {
              "outlinewidth": 0,
              "ticks": ""
             }
            },
            "type": "scattermapbox"
           }
          ],
          "scatterpolar": [
           {
            "marker": {
             "colorbar": {
              "outlinewidth": 0,
              "ticks": ""
             }
            },
            "type": "scatterpolar"
           }
          ],
          "scatterpolargl": [
           {
            "marker": {
             "colorbar": {
              "outlinewidth": 0,
              "ticks": ""
             }
            },
            "type": "scatterpolargl"
           }
          ],
          "scatterternary": [
           {
            "marker": {
             "colorbar": {
              "outlinewidth": 0,
              "ticks": ""
             }
            },
            "type": "scatterternary"
           }
          ],
          "surface": [
           {
            "colorbar": {
             "outlinewidth": 0,
             "ticks": ""
            },
            "colorscale": [
             [
              0,
              "#0d0887"
             ],
             [
              0.1111111111111111,
              "#46039f"
             ],
             [
              0.2222222222222222,
              "#7201a8"
             ],
             [
              0.3333333333333333,
              "#9c179e"
             ],
             [
              0.4444444444444444,
              "#bd3786"
             ],
             [
              0.5555555555555556,
              "#d8576b"
             ],
             [
              0.6666666666666666,
              "#ed7953"
             ],
             [
              0.7777777777777778,
              "#fb9f3a"
             ],
             [
              0.8888888888888888,
              "#fdca26"
             ],
             [
              1,
              "#f0f921"
             ]
            ],
            "type": "surface"
           }
          ],
          "table": [
           {
            "cells": {
             "fill": {
              "color": "#EBF0F8"
             },
             "line": {
              "color": "white"
             }
            },
            "header": {
             "fill": {
              "color": "#C8D4E3"
             },
             "line": {
              "color": "white"
             }
            },
            "type": "table"
           }
          ]
         },
         "layout": {
          "annotationdefaults": {
           "arrowcolor": "#2a3f5f",
           "arrowhead": 0,
           "arrowwidth": 1
          },
          "autotypenumbers": "strict",
          "coloraxis": {
           "colorbar": {
            "outlinewidth": 0,
            "ticks": ""
           }
          },
          "colorscale": {
           "diverging": [
            [
             0,
             "#8e0152"
            ],
            [
             0.1,
             "#c51b7d"
            ],
            [
             0.2,
             "#de77ae"
            ],
            [
             0.3,
             "#f1b6da"
            ],
            [
             0.4,
             "#fde0ef"
            ],
            [
             0.5,
             "#f7f7f7"
            ],
            [
             0.6,
             "#e6f5d0"
            ],
            [
             0.7,
             "#b8e186"
            ],
            [
             0.8,
             "#7fbc41"
            ],
            [
             0.9,
             "#4d9221"
            ],
            [
             1,
             "#276419"
            ]
           ],
           "sequential": [
            [
             0,
             "#0d0887"
            ],
            [
             0.1111111111111111,
             "#46039f"
            ],
            [
             0.2222222222222222,
             "#7201a8"
            ],
            [
             0.3333333333333333,
             "#9c179e"
            ],
            [
             0.4444444444444444,
             "#bd3786"
            ],
            [
             0.5555555555555556,
             "#d8576b"
            ],
            [
             0.6666666666666666,
             "#ed7953"
            ],
            [
             0.7777777777777778,
             "#fb9f3a"
            ],
            [
             0.8888888888888888,
             "#fdca26"
            ],
            [
             1,
             "#f0f921"
            ]
           ],
           "sequentialminus": [
            [
             0,
             "#0d0887"
            ],
            [
             0.1111111111111111,
             "#46039f"
            ],
            [
             0.2222222222222222,
             "#7201a8"
            ],
            [
             0.3333333333333333,
             "#9c179e"
            ],
            [
             0.4444444444444444,
             "#bd3786"
            ],
            [
             0.5555555555555556,
             "#d8576b"
            ],
            [
             0.6666666666666666,
             "#ed7953"
            ],
            [
             0.7777777777777778,
             "#fb9f3a"
            ],
            [
             0.8888888888888888,
             "#fdca26"
            ],
            [
             1,
             "#f0f921"
            ]
           ]
          },
          "colorway": [
           "#636efa",
           "#EF553B",
           "#00cc96",
           "#ab63fa",
           "#FFA15A",
           "#19d3f3",
           "#FF6692",
           "#B6E880",
           "#FF97FF",
           "#FECB52"
          ],
          "font": {
           "color": "#2a3f5f"
          },
          "geo": {
           "bgcolor": "white",
           "lakecolor": "white",
           "landcolor": "#E5ECF6",
           "showlakes": true,
           "showland": true,
           "subunitcolor": "white"
          },
          "hoverlabel": {
           "align": "left"
          },
          "hovermode": "closest",
          "mapbox": {
           "style": "light"
          },
          "paper_bgcolor": "white",
          "plot_bgcolor": "#E5ECF6",
          "polar": {
           "angularaxis": {
            "gridcolor": "white",
            "linecolor": "white",
            "ticks": ""
           },
           "bgcolor": "#E5ECF6",
           "radialaxis": {
            "gridcolor": "white",
            "linecolor": "white",
            "ticks": ""
           }
          },
          "scene": {
           "xaxis": {
            "backgroundcolor": "#E5ECF6",
            "gridcolor": "white",
            "gridwidth": 2,
            "linecolor": "white",
            "showbackground": true,
            "ticks": "",
            "zerolinecolor": "white"
           },
           "yaxis": {
            "backgroundcolor": "#E5ECF6",
            "gridcolor": "white",
            "gridwidth": 2,
            "linecolor": "white",
            "showbackground": true,
            "ticks": "",
            "zerolinecolor": "white"
           },
           "zaxis": {
            "backgroundcolor": "#E5ECF6",
            "gridcolor": "white",
            "gridwidth": 2,
            "linecolor": "white",
            "showbackground": true,
            "ticks": "",
            "zerolinecolor": "white"
           }
          },
          "shapedefaults": {
           "line": {
            "color": "#2a3f5f"
           }
          },
          "ternary": {
           "aaxis": {
            "gridcolor": "white",
            "linecolor": "white",
            "ticks": ""
           },
           "baxis": {
            "gridcolor": "white",
            "linecolor": "white",
            "ticks": ""
           },
           "bgcolor": "#E5ECF6",
           "caxis": {
            "gridcolor": "white",
            "linecolor": "white",
            "ticks": ""
           }
          },
          "title": {
           "x": 0.05
          },
          "xaxis": {
           "automargin": true,
           "gridcolor": "white",
           "linecolor": "white",
           "ticks": "",
           "title": {
            "standoff": 15
           },
           "zerolinecolor": "white",
           "zerolinewidth": 2
          },
          "yaxis": {
           "automargin": true,
           "gridcolor": "white",
           "linecolor": "white",
           "ticks": "",
           "title": {
            "standoff": 15
           },
           "zerolinecolor": "white",
           "zerolinewidth": 2
          }
         }
        },
        "title": {
         "text": "F1 per dimension in single dimension training experiment"
        },
        "width": 1500,
        "xaxis": {
         "autorange": true,
         "range": [
          -0.5,
          22.5
         ],
         "type": "category"
        },
        "yaxis": {
         "autorange": true,
         "range": [
          0,
          1.0807915163939508
         ],
         "type": "linear"
        }
       }
      },
      "image/png": "[encoded data removed]",
      "text/html": [
       "<div>                            <div id=\"a72903c7-40aa-47d0-8470-787992d4490e\" class=\"plotly-graph-div\" style=\"height:500px; width:1500px;\"></div>            <script type=\"text/javascript\">                require([\"plotly\"], function(Plotly) {                    window.PLOTLYENV=window.PLOTLYENV || {};                                    if (document.getElementById(\"a72903c7-40aa-47d0-8470-787992d4490e\")) {                    Plotly.newPlot(                        \"a72903c7-40aa-47d0-8470-787992d4490e\",                        [{\"error_y\":{\"array\":[0.1717975225397356,0.1717975225397356],\"type\":\"data\",\"visible\":true},\"name\":\"Pozytywne\",\"showlegend\":false,\"x\":[\"Pozytywne\"],\"y\":[0.3453148369688982,0.3453148369688982],\"type\":\"bar\"},{\"error_y\":{\"array\":[0.15567105970593578,0.15567105970593578],\"type\":\"data\",\"visible\":true},\"name\":\"Negatywne\",\"showlegend\":false,\"x\":[\"Negatywne\"],\"y\":[0.426356028242867,0.426356028242867],\"type\":\"bar\"},{\"error_y\":{\"array\":[0.024739775163503012,0.024739775163503012],\"type\":\"data\",\"visible\":true},\"name\":\"Rado\\u015b\\u0107\",\"showlegend\":false,\"x\":[\"Rado\\u015b\\u0107\"],\"y\":[0.3399324188996097,0.3399324188996097],\"type\":\"bar\"},{\"error_y\":{\"array\":[0.09387316924022422,0.09387316924022422],\"type\":\"data\",\"visible\":true},\"name\":\"Zachwyt\",\"showlegend\":false,\"x\":[\"Zachwyt\"],\"y\":[0.3397731466156552,0.3397731466156552],\"type\":\"bar\"},{\"error_y\":{\"array\":[0.045413084481331606,0.045413084481331606],\"type\":\"data\",\"visible\":true},\"name\":\"Inspiruje\",\"showlegend\":false,\"x\":[\"Inspiruje\"],\"y\":[0.365457416850126,0.365457416850126],\"type\":\"bar\"},{\"error_y\":{\"array\":[0.12248834234651845,0.12248834234651845],\"type\":\"data\",\"visible\":true},\"name\":\"Spok\\u00f3j\",\"showlegend\":false,\"x\":[\"Spok\\u00f3j\"],\"y\":[0.2995602721291316,0.2995602721291316],\"type\":\"bar\"},{\"error_y\":{\"array\":[0.20349907898249298,0.20349907898249298],\"type\":\"data\",\"visible\":true},\"name\":\"Zaskoczenie\",\"showlegend\":false,\"x\":[\"Zaskoczenie\"],\"y\":[0.2665326093341333,0.2665326093341333],\"type\":\"bar\"},{\"error_y\":{\"array\":[0.0899361611093197,0.0899361611093197],\"type\":\"data\",\"visible\":true},\"name\":\"Wsp\\u00f3\\u0142czucie\",\"showlegend\":false,\"x\":[\"Wsp\\u00f3\\u0142czucie\"],\"y\":[0.41834937281693546,0.41834937281693546],\"type\":\"bar\"},{\"error_y\":{\"array\":[0.09000795561075953,0.09000795561075953],\"type\":\"data\",\"visible\":true},\"name\":\"Strach\",\"showlegend\":false,\"x\":[\"Strach\"],\"y\":[0.3913687069686926,0.3913687069686926],\"type\":\"bar\"},{\"error_y\":{\"array\":[0.11607052229044788,0.11607052229044788],\"type\":\"data\",\"visible\":true},\"name\":\"Smutek\",\"showlegend\":false,\"x\":[\"Smutek\"],\"y\":[0.33009800471213036,0.33009800471213036],\"type\":\"bar\"},{\"error_y\":{\"array\":[0.0632847834312327,0.0632847834312327],\"type\":\"data\",\"visible\":true},\"name\":\"Wstr\\u0119t\",\"showlegend\":false,\"x\":[\"Wstr\\u0119t\"],\"y\":[0.3638405668419934,0.3638405668419934],\"type\":\"bar\"},{\"error_y\":{\"array\":[0.10747865081051966,0.10747865081051966],\"type\":\"data\",\"visible\":true},\"name\":\"Z\\u0142o\\u015b\\u0107\",\"showlegend\":false,\"x\":[\"Z\\u0142o\\u015b\\u0107\"],\"y\":[0.340035259890009,0.340035259890009],\"type\":\"bar\"},{\"error_y\":{\"array\":[0.07326478406798144,0.07326478406798144],\"type\":\"data\",\"visible\":true},\"name\":\"Ironiczny\",\"showlegend\":false,\"x\":[\"Ironiczny\"],\"y\":[0.30761834173658986,0.30761834173658986],\"type\":\"bar\"},{\"error_y\":{\"array\":[0.07095654732909443,0.07095654732909443],\"type\":\"data\",\"visible\":true},\"name\":\"\\u017benuj\\u0105cy\",\"showlegend\":false,\"x\":[\"\\u017benuj\\u0105cy\"],\"y\":[0.3581239693243208,0.3581239693243208],\"type\":\"bar\"},{\"error_y\":{\"array\":[0.08575888684238088,0.08575888684238088],\"type\":\"data\",\"visible\":true},\"name\":\"Wulgarny\",\"showlegend\":false,\"x\":[\"Wulgarny\"],\"y\":[0.2527614805278303,0.2527614805278303],\"type\":\"bar\"},{\"error_y\":{\"array\":[0.10487336182798859,0.10487336182798859],\"type\":\"data\",\"visible\":true},\"name\":\"Polityczny\",\"showlegend\":false,\"x\":[\"Polityczny\"],\"y\":[0.33649718462120826,0.33649718462120826],\"type\":\"bar\"},{\"error_y\":{\"array\":[0.3008743206614689,0.3008743206614689],\"type\":\"data\",\"visible\":true},\"name\":\"Interesuj\\u0105cy\",\"showlegend\":false,\"x\":[\"Interesuj\\u0105cy\"],\"y\":[0.3280847238135229,0.3280847238135229],\"type\":\"bar\"},{\"error_y\":{\"array\":[0.4276017957710825,0.4276017957710825],\"type\":\"data\",\"visible\":true},\"name\":\"Zrozumia\\u0142y\",\"showlegend\":false,\"x\":[\"Zrozumia\\u0142y\"],\"y\":[0.5991501448031707,0.5991501448031707],\"type\":\"bar\"},{\"error_y\":{\"array\":[0.1948422694356491,0.1948422694356491],\"type\":\"data\",\"visible\":true},\"name\":\"Potrzebuj\\u0119 wi\\u0119cej informacji, aby oceni\\u0107 ten tekst\",\"showlegend\":false,\"x\":[\"Potrzebuj\\u0119 wi\\u0119cej informacji, aby oceni\\u0107 ten tekst\"],\"y\":[0.3197738265331881,0.3197738265331881],\"type\":\"bar\"},{\"error_y\":{\"array\":[0.1289976436992683,0.1289976436992683],\"type\":\"data\",\"visible\":true},\"name\":\"Obra\\u017ca mnie\",\"showlegend\":false,\"x\":[\"Obra\\u017ca mnie\"],\"y\":[0.42959719767832716,0.42959719767832716],\"type\":\"bar\"},{\"error_y\":{\"array\":[0.10464670161087215,0.10464670161087215],\"type\":\"data\",\"visible\":true},\"name\":\"Mo\\u017ce kogo\\u015b atakowa\\u0107 / obra\\u017ca\\u0107 / lekcewa\\u017cy\\u0107\",\"showlegend\":false,\"x\":[\"Mo\\u017ce kogo\\u015b atakowa\\u0107 / obra\\u017ca\\u0107 / lekcewa\\u017cy\\u0107\"],\"y\":[0.3944022341592254,0.3944022341592254],\"type\":\"bar\"},{\"error_y\":{\"array\":[0.15945766723336188,0.15945766723336188],\"type\":\"data\",\"visible\":true},\"name\":\"Mnie bawi/\\u015bmieszy?\",\"showlegend\":false,\"x\":[\"Mnie bawi/\\u015bmieszy?\"],\"y\":[0.32566694232522364,0.32566694232522364],\"type\":\"bar\"},{\"error_y\":{\"array\":[0.07661509148648636,0.07661509148648636],\"type\":\"data\",\"visible\":true},\"name\":\"Mo\\u017ce kogo\\u015b bawi\\u0107?\",\"showlegend\":false,\"x\":[\"Mo\\u017ce kogo\\u015b bawi\\u0107?\"],\"y\":[0.3953880404086691,0.3953880404086691],\"type\":\"bar\"}],                        {\"template\":{\"data\":{\"histogram2dcontour\":[{\"type\":\"histogram2dcontour\",\"colorbar\":{\"outlinewidth\":0,\"ticks\":\"\"},\"colorscale\":[[0.0,\"#0d0887\"],[0.1111111111111111,\"#46039f\"],[0.2222222222222222,\"#7201a8\"],[0.3333333333333333,\"#9c179e\"],[0.4444444444444444,\"#bd3786\"],[0.5555555555555556,\"#d8576b\"],[0.6666666666666666,\"#ed7953\"],[0.7777777777777778,\"#fb9f3a\"],[0.8888888888888888,\"#fdca26\"],[1.0,\"#f0f921\"]]}],\"choropleth\":[{\"type\":\"choropleth\",\"colorbar\":{\"outlinewidth\":0,\"ticks\":\"\"}}],\"histogram2d\":[{\"type\":\"histogram2d\",\"colorbar\":{\"outlinewidth\":0,\"ticks\":\"\"},\"colorscale\":[[0.0,\"#0d0887\"],[0.1111111111111111,\"#46039f\"],[0.2222222222222222,\"#7201a8\"],[0.3333333333333333,\"#9c179e\"],[0.4444444444444444,\"#bd3786\"],[0.5555555555555556,\"#d8576b\"],[0.6666666666666666,\"#ed7953\"],[0.7777777777777778,\"#fb9f3a\"],[0.8888888888888888,\"#fdca26\"],[1.0,\"#f0f921\"]]}],\"heatmap\":[{\"type\":\"heatmap\",\"colorbar\":{\"outlinewidth\":0,\"ticks\":\"\"},\"colorscale\":[[0.0,\"#0d0887\"],[0.1111111111111111,\"#46039f\"],[0.2222222222222222,\"#7201a8\"],[0.3333333333333333,\"#9c179e\"],[0.4444444444444444,\"#bd3786\"],[0.5555555555555556,\"#d8576b\"],[0.6666666666666666,\"#ed7953\"],[0.7777777777777778,\"#fb9f3a\"],[0.8888888888888888,\"#fdca26\"],[1.0,\"#f0f921\"]]}],\"heatmapgl\":[{\"type\":\"heatmapgl\",\"colorbar\":{\"outlinewidth\":0,\"ticks\":\"\"},\"colorscale\":[[0.0,\"#0d0887\"],[0.1111111111111111,\"#46039f\"],[0.2222222222222222,\"#7201a8\"],[0.3333333333333333,\"#9c179e\"],[0.4444444444444444,\"#bd3786\"],[0.5555555555555556,\"#d8576b\"],[0.6666666666666666,\"#ed7953\"],[0.7777777777777778,\"#fb9f3a\"],[0.8888888888888888,\"#fdca26\"],[1.0,\"#f0f921\"]]}],\"contourcarpet\":[{\"type\":\"contourcarpet\",\"colorbar\":{\"outlinewidth\":0,\"ticks\":\"\"}}],\"contour\":[{\"type\":\"contour\",\"colorbar\":{\"outlinewidth\":0,\"ticks\":\"\"},\"colorscale\":[[0.0,\"#0d0887\"],[0.1111111111111111,\"#46039f\"],[0.2222222222222222,\"#7201a8\"],[0.3333333333333333,\"#9c179e\"],[0.4444444444444444,\"#bd3786\"],[0.5555555555555556,\"#d8576b\"],[0.6666666666666666,\"#ed7953\"],[0.7777777777777778,\"#fb9f3a\"],[0.8888888888888888,\"#fdca26\"],[1.0,\"#f0f921\"]]}],\"surface\":[{\"type\":\"surface\",\"colorbar\":{\"outlinewidth\":0,\"ticks\":\"\"},\"colorscale\":[[0.0,\"#0d0887\"],[0.1111111111111111,\"#46039f\"],[0.2222222222222222,\"#7201a8\"],[0.3333333333333333,\"#9c179e\"],[0.4444444444444444,\"#bd3786\"],[0.5555555555555556,\"#d8576b\"],[0.6666666666666666,\"#ed7953\"],[0.7777777777777778,\"#fb9f3a\"],[0.8888888888888888,\"#fdca26\"],[1.0,\"#f0f921\"]]}],\"mesh3d\":[{\"type\":\"mesh3d\",\"colorbar\":{\"outlinewidth\":0,\"ticks\":\"\"}}],\"scatter\":[{\"fillpattern\":{\"fillmode\":\"overlay\",\"size\":10,\"solidity\":0.2},\"type\":\"scatter\"}],\"parcoords\":[{\"type\":\"parcoords\",\"line\":{\"colorbar\":{\"outlinewidth\":0,\"ticks\":\"\"}}}],\"scatterpolargl\":[{\"type\":\"scatterpolargl\",\"marker\":{\"colorbar\":{\"outlinewidth\":0,\"ticks\":\"\"}}}],\"bar\":[{\"error_x\":{\"color\":\"#2a3f5f\"},\"error_y\":{\"color\":\"#2a3f5f\"},\"marker\":{\"line\":{\"color\":\"#E5ECF6\",\"width\":0.5},\"pattern\":{\"fillmode\":\"overlay\",\"size\":10,\"solidity\":0.2}},\"type\":\"bar\"}],\"scattergeo\":[{\"type\":\"scattergeo\",\"marker\":{\"colorbar\":{\"outlinewidth\":0,\"ticks\":\"\"}}}],\"scatterpolar\":[{\"type\":\"scatterpolar\",\"marker\":{\"colorbar\":{\"outlinewidth\":0,\"ticks\":\"\"}}}],\"histogram\":[{\"marker\":{\"pattern\":{\"fillmode\":\"overlay\",\"size\":10,\"solidity\":0.2}},\"type\":\"histogram\"}],\"scattergl\":[{\"type\":\"scattergl\",\"marker\":{\"colorbar\":{\"outlinewidth\":0,\"ticks\":\"\"}}}],\"scatter3d\":[{\"type\":\"scatter3d\",\"line\":{\"colorbar\":{\"outlinewidth\":0,\"ticks\":\"\"}},\"marker\":{\"colorbar\":{\"outlinewidth\":0,\"ticks\":\"\"}}}],\"scattermapbox\":[{\"type\":\"scattermapbox\",\"marker\":{\"colorbar\":{\"outlinewidth\":0,\"ticks\":\"\"}}}],\"scatterternary\":[{\"type\":\"scatterternary\",\"marker\":{\"colorbar\":{\"outlinewidth\":0,\"ticks\":\"\"}}}],\"scattercarpet\":[{\"type\":\"scattercarpet\",\"marker\":{\"colorbar\":{\"outlinewidth\":0,\"ticks\":\"\"}}}],\"carpet\":[{\"aaxis\":{\"endlinecolor\":\"#2a3f5f\",\"gridcolor\":\"white\",\"linecolor\":\"white\",\"minorgridcolor\":\"white\",\"startlinecolor\":\"#2a3f5f\"},\"baxis\":{\"endlinecolor\":\"#2a3f5f\",\"gridcolor\":\"white\",\"linecolor\":\"white\",\"minorgridcolor\":\"white\",\"startlinecolor\":\"#2a3f5f\"},\"type\":\"carpet\"}],\"table\":[{\"cells\":{\"fill\":{\"color\":\"#EBF0F8\"},\"line\":{\"color\":\"white\"}},\"header\":{\"fill\":{\"color\":\"#C8D4E3\"},\"line\":{\"color\":\"white\"}},\"type\":\"table\"}],\"barpolar\":[{\"marker\":{\"line\":{\"color\":\"#E5ECF6\",\"width\":0.5},\"pattern\":{\"fillmode\":\"overlay\",\"size\":10,\"solidity\":0.2}},\"type\":\"barpolar\"}],\"pie\":[{\"automargin\":true,\"type\":\"pie\"}]},\"layout\":{\"autotypenumbers\":\"strict\",\"colorway\":[\"#636efa\",\"#EF553B\",\"#00cc96\",\"#ab63fa\",\"#FFA15A\",\"#19d3f3\",\"#FF6692\",\"#B6E880\",\"#FF97FF\",\"#FECB52\"],\"font\":{\"color\":\"#2a3f5f\"},\"hovermode\":\"closest\",\"hoverlabel\":{\"align\":\"left\"},\"paper_bgcolor\":\"white\",\"plot_bgcolor\":\"#E5ECF6\",\"polar\":{\"bgcolor\":\"#E5ECF6\",\"angularaxis\":{\"gridcolor\":\"white\",\"linecolor\":\"white\",\"ticks\":\"\"},\"radialaxis\":{\"gridcolor\":\"white\",\"linecolor\":\"white\",\"ticks\":\"\"}},\"ternary\":{\"bgcolor\":\"#E5ECF6\",\"aaxis\":{\"gridcolor\":\"white\",\"linecolor\":\"white\",\"ticks\":\"\"},\"baxis\":{\"gridcolor\":\"white\",\"linecolor\":\"white\",\"ticks\":\"\"},\"caxis\":{\"gridcolor\":\"white\",\"linecolor\":\"white\",\"ticks\":\"\"}},\"coloraxis\":{\"colorbar\":{\"outlinewidth\":0,\"ticks\":\"\"}},\"colorscale\":{\"sequential\":[[0.0,\"#0d0887\"],[0.1111111111111111,\"#46039f\"],[0.2222222222222222,\"#7201a8\"],[0.3333333333333333,\"#9c179e\"],[0.4444444444444444,\"#bd3786\"],[0.5555555555555556,\"#d8576b\"],[0.6666666666666666,\"#ed7953\"],[0.7777777777777778,\"#fb9f3a\"],[0.8888888888888888,\"#fdca26\"],[1.0,\"#f0f921\"]],\"sequentialminus\":[[0.0,\"#0d0887\"],[0.1111111111111111,\"#46039f\"],[0.2222222222222222,\"#7201a8\"],[0.3333333333333333,\"#9c179e\"],[0.4444444444444444,\"#bd3786\"],[0.5555555555555556,\"#d8576b\"],[0.6666666666666666,\"#ed7953\"],[0.7777777777777778,\"#fb9f3a\"],[0.8888888888888888,\"#fdca26\"],[1.0,\"#f0f921\"]],\"diverging\":[[0,\"#8e0152\"],[0.1,\"#c51b7d\"],[0.2,\"#de77ae\"],[0.3,\"#f1b6da\"],[0.4,\"#fde0ef\"],[0.5,\"#f7f7f7\"],[0.6,\"#e6f5d0\"],[0.7,\"#b8e186\"],[0.8,\"#7fbc41\"],[0.9,\"#4d9221\"],[1,\"#276419\"]]},\"xaxis\":{\"gridcolor\":\"white\",\"linecolor\":\"white\",\"ticks\":\"\",\"title\":{\"standoff\":15},\"zerolinecolor\":\"white\",\"automargin\":true,\"zerolinewidth\":2},\"yaxis\":{\"gridcolor\":\"white\",\"linecolor\":\"white\",\"ticks\":\"\",\"title\":{\"standoff\":15},\"zerolinecolor\":\"white\",\"automargin\":true,\"zerolinewidth\":2},\"scene\":{\"xaxis\":{\"backgroundcolor\":\"#E5ECF6\",\"gridcolor\":\"white\",\"linecolor\":\"white\",\"showbackground\":true,\"ticks\":\"\",\"zerolinecolor\":\"white\",\"gridwidth\":2},\"yaxis\":{\"backgroundcolor\":\"#E5ECF6\",\"gridcolor\":\"white\",\"linecolor\":\"white\",\"showbackground\":true,\"ticks\":\"\",\"zerolinecolor\":\"white\",\"gridwidth\":2},\"zaxis\":{\"backgroundcolor\":\"#E5ECF6\",\"gridcolor\":\"white\",\"linecolor\":\"white\",\"showbackground\":true,\"ticks\":\"\",\"zerolinecolor\":\"white\",\"gridwidth\":2}},\"shapedefaults\":{\"line\":{\"color\":\"#2a3f5f\"}},\"annotationdefaults\":{\"arrowcolor\":\"#2a3f5f\",\"arrowhead\":0,\"arrowwidth\":1},\"geo\":{\"bgcolor\":\"white\",\"landcolor\":\"#E5ECF6\",\"subunitcolor\":\"white\",\"showland\":true,\"showlakes\":true,\"lakecolor\":\"white\"},\"title\":{\"x\":0.05},\"mapbox\":{\"style\":\"light\"}}},\"title\":{\"text\":\"F1 per dimension in single dimension training experiment\"},\"width\":1500,\"height\":500},                        {\"responsive\": true}                    ).then(function(){\n",
       "                            \n",
       "var gd = document.getElementById('a72903c7-40aa-47d0-8470-787992d4490e');\n",
       "var x = new MutationObserver(function (mutations, observer) {{\n",
       "        var display = window.getComputedStyle(gd).display;\n",
       "        if (!display || display === 'none') {{\n",
       "            console.log([gd, 'removed!']);\n",
       "            Plotly.purge(gd);\n",
       "            observer.disconnect();\n",
       "        }}\n",
       "}});\n",
       "\n",
       "// Listen for the removal of the full notebook cells\n",
       "var notebookContainer = gd.closest('#notebook-container');\n",
       "if (notebookContainer) {{\n",
       "    x.observe(notebookContainer, {childList: true});\n",
       "}}\n",
       "\n",
       "// Listen for the clearing of the current output cell\n",
       "var outputEl = gd.closest('.output');\n",
       "if (outputEl) {{\n",
       "    x.observe(outputEl, {childList: true});\n",
       "}}\n",
       "\n",
       "                        })                };                });            </script>        </div>"
      ]
     },
     "metadata": {},
     "output_type": "display_data"
    }
   ],
   "source": [
    "single_training_experiment(df_single)"
   ]
  },
  {
   "cell_type": "code",
   "execution_count": 52,
   "id": "788aa985-21cd-40b1-a50a-9a08bcfa7843",
   "metadata": {
    "tags": []
   },
   "outputs": [],
   "source": [
    "def threshold_experiment(df, per_class_label = \"macro_per_dim\", mean_label = \"macro\"):\n",
    "    folds_num = df[\"fold\"].max() + 1\n",
    "    \n",
    "    f1_data = {} \n",
    "    thresholds = df[\"threshold\"].unique()\n",
    "    for fold in range(folds_num):\n",
    "        curr_data = df[df[\"fold\"]==fold]\n",
    "        for th in thresholds:\n",
    "            curr_data_thresh = curr_data[curr_data[\"threshold\"] == th]\n",
    "            curr_matrix = convert_column_to_matrix(curr_data_thresh,\"predictions\")\n",
    "            original = convert_column_to_matrix(curr_data_thresh, \"labels\")\n",
    "            if f\"th_{th}\" not in f1_data:\n",
    "                f1_data[f\"th_{th}\"] = {}\n",
    "            f1_data[f\"th_{th}\"][fold] = compute_F1(original, curr_matrix)\n",
    "\n",
    "    \n",
    "    with open(join(datadir, f\"f1_threshold_{curr_dataset}.json\"), \"w\") as f:\n",
    "        json.dump(f1_data, f)\n",
    "\n",
    "    plot_data = {}\n",
    "    for th in thresholds:\n",
    "        _, means, stds = get_array(f1_data[f\"th_{th}\"], per_class_label)\n",
    "        _, mean, std = get_array(f1_data[f\"th_{th}\"], mean_label)\n",
    "        plot_data[th] = (list(means) + [mean], list(stds) + [std])\n",
    "        \n",
    "    fig = go.Figure()\n",
    "    \n",
    "    for i, (means, std) in plot_data.items():\n",
    "        plot_barplot(fig, means, std, i)\n",
    "\n",
    "    \n",
    "    fig.update_layout(\n",
    "        title=dict(\n",
    "            text=\"F1 per dimension in threshold experiment\",\n",
    "        ),\n",
    "        width=1500,\n",
    "        height=500,\n",
    "    )\n",
    "    \n",
    "    fig.show()\n",
    "        "
   ]
  },
  {
   "cell_type": "code",
   "execution_count": 54,
   "id": "59e908f6-509f-4bd9-a4d3-21a1855b68b1",
   "metadata": {
    "tags": []
   },
   "outputs": [],
   "source": [
    "threshold_experiment(df_thresholds)"
   ]
  }
 ],
 "metadata": {
  "kernelspec": {
   "display_name": "Python 3 (ipykernel)",
   "language": "python",
   "name": "python3"
  },
  "language_info": {
   "codemirror_mode": {
    "name": "ipython",
    "version": 3
   },
   "file_extension": ".py",
   "mimetype": "text/x-python",
   "name": "python",
   "nbconvert_exporter": "python",
   "pygments_lexer": "ipython3",
   "version": "3.11.5"
  }
 },
 "nbformat": 4,
 "nbformat_minor": 5
}
