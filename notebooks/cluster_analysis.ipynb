{
 "cells": [
  {
   "cell_type": "code",
   "execution_count": 1,
   "metadata": {},
   "outputs": [],
   "source": [
    "import pandas as pd\n",
    "import seaborn as sns\n",
    "import matplotlib.pyplot as plt\n",
    "\n",
    "%matplotlib inline"
   ]
  },
  {
   "cell_type": "code",
   "execution_count": 14,
   "metadata": {},
   "outputs": [
    {
     "data": {
      "text/plain": [
       "(35827, 4)"
      ]
     },
     "execution_count": 14,
     "metadata": {},
     "output_type": "execute_result"
    }
   ],
   "source": [
    "balanced = pd.read_csv(\"../data/sent/projects.csv\")\n",
    "balanced_text = pd.read_csv(\"../data/sent/texts.csv\")\n",
    "# most_num = pd.read_csv(\"../data/projects_numerous.csv\")\n",
    "# most_num_text = pd.read_csv(\"../data/texts_numerous.csv\") \n",
    "# normal = pd.read_csv(\"../data/projects_normal.csv\")\n",
    "# normal_text = pd.read_csv(\"../data/texts_normal.csv\")\n",
    "balanced_text.shape"
   ]
  },
  {
   "cell_type": "code",
   "execution_count": 3,
   "metadata": {},
   "outputs": [],
   "source": [
    "label_columns = list(set(balanced.columns) - {\"project_id\", \"project_type\"})"
   ]
  },
  {
   "cell_type": "code",
   "execution_count": 12,
   "metadata": {},
   "outputs": [],
   "source": [
    "def averages(data, texts=None):\n",
    "    data = data[label_columns]\n",
    "    avg_dim = data.sum(axis=1).mean()\n",
    "    avg_val = data.mean(axis=0)\n",
    "    texts = texts[texts[\"text_type\"] == 1]\n",
    "    grouped = texts[[\"project_id\", \"text_type\"]].groupby(by=\"project_id\").agg(\"count\")\n",
    "    print(grouped)\n",
    "    coms = grouped[\"text_type\"].mean(), grouped[\"text_type\"].min(), grouped[\"text_type\"].max(), grouped[\"text_type\"].std()\n",
    "    return avg_dim, avg_val, coms"
   ]
  },
  {
   "cell_type": "code",
   "execution_count": 13,
   "metadata": {},
   "outputs": [
    {
     "name": "stdout",
     "output_type": "stream",
     "text": [
      "            text_type\n",
      "project_id           \n",
      "0                   6\n",
      "1                   3\n",
      "2                   4\n",
      "3                   8\n",
      "4                   4\n",
      "...               ...\n",
      "995                 7\n",
      "996                 7\n",
      "997                 6\n",
      "998                 8\n",
      "999                 7\n",
      "\n",
      "[1000 rows x 1 columns]\n"
     ]
    },
    {
     "data": {
      "text/plain": [
       "(18.896,\n",
       " (5.827, 3, 10, 1.9679796604497577),\n",
       " 1.0000    11\n",
       " 0.2310     2\n",
       " 0.9120     2\n",
       " 0.7980     1\n",
       " 0.7060     1\n",
       " 0.3110     1\n",
       " 0.9000     1\n",
       " 0.3865     1\n",
       " 0.9955     1\n",
       " 0.8270     1\n",
       " 0.6860     1\n",
       " Name: count, dtype: int64)"
      ]
     },
     "execution_count": 13,
     "metadata": {},
     "output_type": "execute_result"
    }
   ],
   "source": [
    "dim, val, coms = averages(balanced, balanced_text)\n",
    "dim, coms, val.value_counts()"
   ]
  },
  {
   "cell_type": "code",
   "execution_count": 6,
   "metadata": {},
   "outputs": [],
   "source": [
    "# dim, val, coms = averages(most_num, most_num_text)\n",
    "# dim, coms, val.value_counts()"
   ]
  },
  {
   "cell_type": "code",
   "execution_count": 7,
   "metadata": {},
   "outputs": [
    {
     "ename": "NameError",
     "evalue": "name 'normal' is not defined",
     "output_type": "error",
     "traceback": [
      "\u001b[0;31m---------------------------------------------------------------------------\u001b[0m",
      "\u001b[0;31mNameError\u001b[0m                                 Traceback (most recent call last)",
      "Cell \u001b[0;32mIn[7], line 1\u001b[0m\n\u001b[0;32m----> 1\u001b[0m dim, val, coms \u001b[39m=\u001b[39m averages(normal, normal_text)\n\u001b[1;32m      2\u001b[0m dim, coms, val\u001b[39m.\u001b[39mvalue_counts()\n",
      "\u001b[0;31mNameError\u001b[0m: name 'normal' is not defined"
     ]
    }
   ],
   "source": [
    "dim, val, coms = averages(normal, normal_text)\n",
    "dim, coms, val.value_counts()"
   ]
  },
  {
   "cell_type": "code",
   "execution_count": null,
   "metadata": {},
   "outputs": [],
   "source": []
  }
 ],
 "metadata": {
  "kernelspec": {
   "display_name": "Python 3 (ipykernel)",
   "language": "python",
   "name": "python3"
  },
  "language_info": {
   "codemirror_mode": {
    "name": "ipython",
    "version": 3
   },
   "file_extension": ".py",
   "mimetype": "text/x-python",
   "name": "python",
   "nbconvert_exporter": "python",
   "pygments_lexer": "ipython3",
   "version": "3.11.5"
  }
 },
 "nbformat": 4,
 "nbformat_minor": 2
}
